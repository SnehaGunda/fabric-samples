{
 "cells": [
  {
   "cell_type": "code",
   "execution_count": 1,
   "id": "f5487938-e7e8-48bd-b005-353920956e04",
   "metadata": {
    "collapsed": false,
    "microsoft": {
     "language": "sparksql",
     "language_group": "synapse_pyspark"
    }
   },
   "outputs": [
    {
     "data": {
      "application/vnd.livy.statement-meta+json": {
       "execution_finish_time": "2025-04-15T08:55:27.5847656Z",
       "execution_start_time": "2025-04-15T08:55:20.4513106Z",
       "livy_statement_state": "available",
       "normalized_state": "finished",
       "parent_msg_id": "d646b364-ea82-4a0f-8937-5f052e6e8b00",
       "queued_time": "2025-04-15T08:55:19.3298114Z",
       "session_id": "39b76f71-bcc0-4406-b7a9-e09f4a8c8fd6",
       "session_start_time": null,
       "spark_pool": null,
       "state": "finished",
       "statement_id": 2,
       "statement_ids": [
        2
       ]
      },
      "text/plain": [
       "StatementMeta(, 39b76f71-bcc0-4406-b7a9-e09f4a8c8fd6, 2, Finished, Available, Finished)"
      ]
     },
     "metadata": {},
     "output_type": "display_data"
    },
    {
     "data": {
      "application/vnd.synapse.sparksql-result+json": {
       "data": [],
       "schema": {
        "fields": [],
        "type": "struct"
       }
      },
      "text/plain": [
       "<Spark SQL result set with 0 rows and 0 fields>"
      ]
     },
     "execution_count": 1,
     "metadata": {},
     "output_type": "execute_result"
    }
   ],
   "source": [
    "-- Welcome to your new notebook\n",
    "-- Type here in the cell editor to add code!\n",
    "CREATE SCHEMA IF NOT EXISTS SalesLakehouse.silver"
   ]
  },
  {
   "cell_type": "code",
   "execution_count": null,
   "id": "a098e8cd-00a6-4cfa-880a-e81198c0eefe",
   "metadata": {
    "advisor": {
     "adviceMetadata": "{\"artifactId\":\"4fffab31-8729-4030-b7f6-2e6f0e1aeb57\",\"activityId\":\"39b76f71-bcc0-4406-b7a9-e09f4a8c8fd6\",\"applicationId\":\"application_1744707200959_0001\",\"jobGroupId\":\"3\",\"advices\":{\"warn\":1}}"
    },
    "collapsed": false,
    "jupyter": {
     "outputs_hidden": false,
     "source_hidden": false
    },
    "microsoft": {
     "language": "sparksql",
     "language_group": "synapse_pyspark"
    },
    "nteract": {
     "transient": {
      "deleting": false
     }
    }
   },
   "outputs": [
    {
     "data": {
      "application/vnd.livy.statement-meta+json": {
       "execution_finish_time": "2025-04-15T08:56:11.4173633Z",
       "execution_start_time": "2025-04-15T08:55:27.58829Z",
       "livy_statement_state": "available",
       "normalized_state": "finished",
       "parent_msg_id": "7f562029-f96d-4b7a-9407-9bdda0b67842",
       "queued_time": "2025-04-15T08:55:19.4365281Z",
       "session_id": "39b76f71-bcc0-4406-b7a9-e09f4a8c8fd6",
       "session_start_time": null,
       "spark_pool": null,
       "state": "finished",
       "statement_id": 3,
       "statement_ids": [
        3
       ]
      },
      "text/plain": [
       "StatementMeta(, 39b76f71-bcc0-4406-b7a9-e09f4a8c8fd6, 3, Finished, Available, Finished)"
      ]
     },
     "metadata": {},
     "output_type": "display_data"
    },
    {
     "data": {
      "application/vnd.synapse.sparksql-result+json": {
       "data": [
        [
         "MVName",
         "ContosoFabric.SalesLakehouse.silver.sales_consolidated"
        ],
        [
         "RefreshPolicy",
         "FullRefresh"
        ],
        [
         "Message",
         "Metrics successfully collected."
        ],
        [
         "TotalRowsProcessed",
         "1795021"
        ],
        [
         "TotalRowsDropped",
         "1413656"
        ],
        [
         "TotalViolations",
         "1413656"
        ],
        [
         "ViolationsPerConstraint",
         "{\"sales_quantity_chk\":1413656}"
        ]
       ],
       "schema": {
        "fields": [
         {
          "metadata": {},
          "name": "metric_name",
          "nullable": false,
          "type": "string"
         },
         {
          "metadata": {},
          "name": "metric_value",
          "nullable": false,
          "type": "string"
         }
        ],
        "type": "struct"
       }
      },
      "text/plain": [
       "<Spark SQL result set with 7 rows and 2 fields>"
      ]
     },
     "execution_count": 2,
     "metadata": {},
     "output_type": "execute_result"
    }
   ],
   "source": [
    "CREATE MATERIALIZED LAKE VIEW IF NOT EXISTS SalesLakehouse.silver.sales_consolidated\n",
    "(\n",
    "CONSTRAINT sales_quantity_chk CHECK (Quantity!=0) ON MISMATCH DROP\n",
    ")\n",
    "AS SELECT \n",
    "SV.Agent_ID, \n",
    "OV.Order_ID,      \n",
    "OV.Aging,\n",
    "OV.Ship_Mode,\n",
    "OV.Product_Category,\n",
    "OV.Product,\n",
    "SV.Sales,\n",
    "SV.Quantity,\n",
    "SV.Discount,\n",
    "SV.Profit,\n",
    "SV.Shipping_Cost,\n",
    "SV.Order_Priority,\n",
    "SV.Customer_ID,\n",
    "LV.Customer_Name,\n",
    "LV.Segment,\n",
    "LV.City,\n",
    "LV.State,\n",
    "LV.Country,\n",
    "LV.Region\n",
    "FROM SalesLakehouse.bronze.`orders` OV\n",
    "LEFT JOIN SalesLakehouse.bronze.`sales` SV on OV.ORDER_ID = SV.ORDER_ID\n",
    "LEFT JOIN SalesLakehouse.bronze.`location` LV on OV.ORDER_ID = LV.ORDER_ID "
   ]
  },
  {
   "cell_type": "code",
   "execution_count": null,
   "id": "7f47061c-10c9-4521-9bdf-486ba10b2d53",
   "metadata": {
    "collapsed": false,
    "jupyter": {
     "outputs_hidden": true
    },
    "microsoft": {
     "language": "sparksql",
     "language_group": "synapse_pyspark"
    }
   },
   "outputs": [
    {
     "data": {
      "application/vnd.livy.statement-meta+json": {
       "execution_finish_time": "2025-04-15T08:56:19.3916422Z",
       "execution_start_time": "2025-04-15T08:56:11.4214944Z",
       "livy_statement_state": "available",
       "normalized_state": "finished",
       "parent_msg_id": "f13eecfb-1aa7-4d81-ae61-2d85c2416b66",
       "queued_time": "2025-04-15T08:55:19.5297828Z",
       "session_id": "39b76f71-bcc0-4406-b7a9-e09f4a8c8fd6",
       "session_start_time": null,
       "spark_pool": null,
       "state": "finished",
       "statement_id": 4,
       "statement_ids": [
        4
       ]
      },
      "text/plain": [
       "StatementMeta(, 39b76f71-bcc0-4406-b7a9-e09f4a8c8fd6, 4, Finished, Available, Finished)"
      ]
     },
     "metadata": {},
     "output_type": "display_data"
    },
    {
     "data": {
      "application/vnd.synapse.sparksql-result+json": {
       "data": [
        [
         "MVName",
         "ContosoFabric.SalesLakehouse.silver.sales_data_cleaned"
        ],
        [
         "RefreshPolicy",
         "FullRefresh"
        ],
        [
         "Message",
         "Drop constraints were not defined, so no rows were dropped."
        ],
        [
         "TotalRowsProcessed",
         "381365"
        ],
        [
         "TotalRowsDropped",
         "0"
        ],
        [
         "TotalViolations",
         "0"
        ],
        [
         "ViolationsPerConstraint",
         "{}"
        ]
       ],
       "schema": {
        "fields": [
         {
          "metadata": {},
          "name": "metric_name",
          "nullable": false,
          "type": "string"
         },
         {
          "metadata": {},
          "name": "metric_value",
          "nullable": false,
          "type": "string"
         }
        ],
        "type": "struct"
       }
      },
      "text/plain": [
       "<Spark SQL result set with 7 rows and 2 fields>"
      ]
     },
     "execution_count": 3,
     "metadata": {},
     "output_type": "execute_result"
    }
   ],
   "source": [
    "CREATE MATERIALIZED LAKE VIEW IF NOT EXISTS SalesLakehouse.silver.sales_data_cleaned\n",
    "(\n",
    "CONSTRAINT customer_id_chk CHECK (Customer_ID is not null) ON MISMATCH FAIL\n",
    ")\n",
    "AS SELECT \n",
    "    Agent_ID,\n",
    "    Order_ID,\n",
    "    Aging,\n",
    "    Ship_Mode,\n",
    "    Product_Category,\n",
    "    Product,\n",
    "    Sales,\n",
    "    Quantity,\n",
    "    Discount,\n",
    "    Profit,\n",
    "    Shipping_Cost,\n",
    "    Order_Priority,\n",
    "    Customer_ID,\n",
    "    Customer_Name,\n",
    "    Segment,\n",
    "    City,\n",
    "    State,\n",
    "    Country,\n",
    "    Region\n",
    "FROM SalesLakehouse.silver.sales_consolidated"
   ]
  },
  {
   "cell_type": "code",
   "execution_count": 4,
   "id": "662d37f7-21c1-40f3-8a01-f9cc64e83fae",
   "metadata": {
    "collapsed": false,
    "microsoft": {
     "language": "sparksql",
     "language_group": "synapse_pyspark"
    }
   },
   "outputs": [
    {
     "data": {
      "application/vnd.livy.statement-meta+json": {
       "execution_finish_time": "2025-04-15T08:56:20.2885488Z",
       "execution_start_time": "2025-04-15T08:56:19.3967129Z",
       "livy_statement_state": "available",
       "normalized_state": "finished",
       "parent_msg_id": "bb6be1a9-69a9-4267-9814-61162fa46a62",
       "queued_time": "2025-04-15T08:55:19.6147916Z",
       "session_id": "39b76f71-bcc0-4406-b7a9-e09f4a8c8fd6",
       "session_start_time": null,
       "spark_pool": null,
       "state": "finished",
       "statement_id": 5,
       "statement_ids": [
        5
       ]
      },
      "text/plain": [
       "StatementMeta(, 39b76f71-bcc0-4406-b7a9-e09f4a8c8fd6, 5, Finished, Available, Finished)"
      ]
     },
     "metadata": {},
     "output_type": "display_data"
    },
    {
     "data": {
      "application/vnd.synapse.sparksql-result+json": {
       "data": [],
       "schema": {
        "fields": [],
        "type": "struct"
       }
      },
      "text/plain": [
       "<Spark SQL result set with 0 rows and 0 fields>"
      ]
     },
     "execution_count": 4,
     "metadata": {},
     "output_type": "execute_result"
    }
   ],
   "source": [
    "CREATE SCHEMA IF NOT EXISTS gold"
   ]
  },
  {
   "cell_type": "code",
   "execution_count": null,
   "id": "69e0ab45-bcf0-4d72-b80f-f45a3bba74cd",
   "metadata": {
    "collapsed": false,
    "jupyter": {
     "outputs_hidden": true
    },
    "microsoft": {
     "language": "sparksql",
     "language_group": "synapse_pyspark"
    }
   },
   "outputs": [
    {
     "data": {
      "application/vnd.livy.statement-meta+json": {
       "execution_finish_time": "2025-04-15T08:56:27.0317365Z",
       "execution_start_time": "2025-04-15T08:56:20.2924229Z",
       "livy_statement_state": "available",
       "normalized_state": "finished",
       "parent_msg_id": "8d0504f4-e073-44bb-911e-19fa132b9a1a",
       "queued_time": "2025-04-15T08:55:19.6849173Z",
       "session_id": "39b76f71-bcc0-4406-b7a9-e09f4a8c8fd6",
       "session_start_time": null,
       "spark_pool": null,
       "state": "finished",
       "statement_id": 6,
       "statement_ids": [
        6
       ]
      },
      "text/plain": [
       "StatementMeta(, 39b76f71-bcc0-4406-b7a9-e09f4a8c8fd6, 6, Finished, Available, Finished)"
      ]
     },
     "metadata": {},
     "output_type": "display_data"
    },
    {
     "data": {
      "application/vnd.synapse.sparksql-result+json": {
       "data": [
        [
         "MVName",
         "ContosoFabric.SalesLakehouse.gold.OrderPriority"
        ],
        [
         "RefreshPolicy",
         "FullRefresh"
        ],
        [
         "Message",
         "Constraints is empty. Skipping the invariant check."
        ],
        [
         "TotalRowsProcessed",
         "0"
        ],
        [
         "TotalRowsDropped",
         "0"
        ],
        [
         "TotalViolations",
         "0"
        ],
        [
         "ViolationsPerConstraint",
         "{}"
        ]
       ],
       "schema": {
        "fields": [
         {
          "metadata": {},
          "name": "metric_name",
          "nullable": false,
          "type": "string"
         },
         {
          "metadata": {},
          "name": "metric_value",
          "nullable": false,
          "type": "string"
         }
        ],
        "type": "struct"
       }
      },
      "text/plain": [
       "<Spark SQL result set with 7 rows and 2 fields>"
      ]
     },
     "execution_count": 5,
     "metadata": {},
     "output_type": "execute_result"
    }
   ],
   "source": [
    "CREATE MATERIALIZED LAKE VIEW IF NOT EXISTS gold.OrderPriority\n",
    "AS SELECT\n",
    "   distinct(Order_Priority) AS Order_Priority,\n",
    "   Order_ID\n",
    "FROM silver.sales_data_cleaned\n",
    "GROUP BY Order_Priority, Order_ID;"
   ]
  },
  {
   "cell_type": "code",
   "execution_count": null,
   "id": "03241e96-ce7f-4b5c-8d22-7317057cc4f6",
   "metadata": {
    "collapsed": false,
    "jupyter": {
     "outputs_hidden": true
    },
    "microsoft": {
     "language": "sparksql",
     "language_group": "synapse_pyspark"
    }
   },
   "outputs": [
    {
     "data": {
      "application/vnd.livy.statement-meta+json": {
       "execution_finish_time": "2025-04-15T08:56:30.8622896Z",
       "execution_start_time": "2025-04-15T08:56:27.0356578Z",
       "livy_statement_state": "available",
       "normalized_state": "finished",
       "parent_msg_id": "fec67cd2-26f0-492e-8192-0e2a7a965782",
       "queued_time": "2025-04-15T08:55:19.8726689Z",
       "session_id": "39b76f71-bcc0-4406-b7a9-e09f4a8c8fd6",
       "session_start_time": null,
       "spark_pool": null,
       "state": "finished",
       "statement_id": 7,
       "statement_ids": [
        7
       ]
      },
      "text/plain": [
       "StatementMeta(, 39b76f71-bcc0-4406-b7a9-e09f4a8c8fd6, 7, Finished, Available, Finished)"
      ]
     },
     "metadata": {},
     "output_type": "display_data"
    },
    {
     "data": {
      "application/vnd.synapse.sparksql-result+json": {
       "data": [
        [
         "MVName",
         "ContosoFabric.SalesLakehouse.gold.sales_shipmode"
        ],
        [
         "RefreshPolicy",
         "FullRefresh"
        ],
        [
         "Message",
         "Constraints is empty. Skipping the invariant check."
        ],
        [
         "TotalRowsProcessed",
         "0"
        ],
        [
         "TotalRowsDropped",
         "0"
        ],
        [
         "TotalViolations",
         "0"
        ],
        [
         "ViolationsPerConstraint",
         "{}"
        ]
       ],
       "schema": {
        "fields": [
         {
          "metadata": {},
          "name": "metric_name",
          "nullable": false,
          "type": "string"
         },
         {
          "metadata": {},
          "name": "metric_value",
          "nullable": false,
          "type": "string"
         }
        ],
        "type": "struct"
       }
      },
      "text/plain": [
       "<Spark SQL result set with 7 rows and 2 fields>"
      ]
     },
     "execution_count": 6,
     "metadata": {},
     "output_type": "execute_result"
    }
   ],
   "source": [
    "CREATE MATERIALIZED LAKE VIEW IF NOT EXISTS gold.sales_shipmode\n",
    "AS SELECT\n",
    "  Ship_Mode\n",
    "FROM silver.sales_data_cleaned\n",
    "GROUP BY Ship_Mode;"
   ]
  },
  {
   "cell_type": "code",
   "execution_count": null,
   "id": "3e5ea72f-02c7-4aa6-9c0d-8c554e7be297",
   "metadata": {
    "collapsed": false,
    "jupyter": {
     "outputs_hidden": true
    },
    "microsoft": {
     "language": "sparksql",
     "language_group": "synapse_pyspark"
    }
   },
   "outputs": [
    {
     "data": {
      "application/vnd.livy.statement-meta+json": {
       "execution_finish_time": "2025-04-15T08:56:35.1696164Z",
       "execution_start_time": "2025-04-15T08:56:30.8656333Z",
       "livy_statement_state": "available",
       "normalized_state": "finished",
       "parent_msg_id": "875e1334-a161-4a3f-af32-8a334463e9a2",
       "queued_time": "2025-04-15T08:55:20.1567366Z",
       "session_id": "39b76f71-bcc0-4406-b7a9-e09f4a8c8fd6",
       "session_start_time": null,
       "spark_pool": null,
       "state": "finished",
       "statement_id": 8,
       "statement_ids": [
        8
       ]
      },
      "text/plain": [
       "StatementMeta(, 39b76f71-bcc0-4406-b7a9-e09f4a8c8fd6, 8, Finished, Available, Finished)"
      ]
     },
     "metadata": {},
     "output_type": "display_data"
    },
    {
     "data": {
      "application/vnd.synapse.sparksql-result+json": {
       "data": [
        [
         "MVName",
         "ContosoFabric.SalesLakehouse.gold.sales_products"
        ],
        [
         "RefreshPolicy",
         "FullRefresh"
        ],
        [
         "Message",
         "Constraints is empty. Skipping the invariant check."
        ],
        [
         "TotalRowsProcessed",
         "0"
        ],
        [
         "TotalRowsDropped",
         "0"
        ],
        [
         "TotalViolations",
         "0"
        ],
        [
         "ViolationsPerConstraint",
         "{}"
        ]
       ],
       "schema": {
        "fields": [
         {
          "metadata": {},
          "name": "metric_name",
          "nullable": false,
          "type": "string"
         },
         {
          "metadata": {},
          "name": "metric_value",
          "nullable": false,
          "type": "string"
         }
        ],
        "type": "struct"
       }
      },
      "text/plain": [
       "<Spark SQL result set with 7 rows and 2 fields>"
      ]
     },
     "execution_count": 7,
     "metadata": {},
     "output_type": "execute_result"
    }
   ],
   "source": [
    "CREATE MATERIALIZED LAKE VIEW IF NOT EXISTS gold.sales_products\n",
    "AS SELECT\n",
    "    Product_Category,\n",
    "    Product\n",
    "FROM silver.sales_data_cleaned\n",
    "GROUP BY Product_Category, Product;"
   ]
  },
  {
   "cell_type": "code",
   "execution_count": null,
   "id": "a7b1b83d-916b-480c-ae07-498baa1199ad",
   "metadata": {
    "collapsed": false,
    "jupyter": {
     "outputs_hidden": true
    },
    "microsoft": {
     "language": "sparksql",
     "language_group": "synapse_pyspark"
    }
   },
   "outputs": [
    {
     "data": {
      "application/vnd.livy.statement-meta+json": {
       "execution_finish_time": "2025-04-15T08:56:38.9481276Z",
       "execution_start_time": "2025-04-15T08:56:35.1735174Z",
       "livy_statement_state": "available",
       "normalized_state": "finished",
       "parent_msg_id": "8de606a2-5c98-44ee-88ca-939169e864f3",
       "queued_time": "2025-04-15T08:55:20.4642477Z",
       "session_id": "39b76f71-bcc0-4406-b7a9-e09f4a8c8fd6",
       "session_start_time": null,
       "spark_pool": null,
       "state": "finished",
       "statement_id": 9,
       "statement_ids": [
        9
       ]
      },
      "text/plain": [
       "StatementMeta(, 39b76f71-bcc0-4406-b7a9-e09f4a8c8fd6, 9, Finished, Available, Finished)"
      ]
     },
     "metadata": {},
     "output_type": "display_data"
    },
    {
     "data": {
      "application/vnd.synapse.sparksql-result+json": {
       "data": [
        [
         "MVName",
         "ContosoFabric.SalesLakehouse.gold.customer_data"
        ],
        [
         "RefreshPolicy",
         "FullRefresh"
        ],
        [
         "Message",
         "Constraints is empty. Skipping the invariant check."
        ],
        [
         "TotalRowsProcessed",
         "0"
        ],
        [
         "TotalRowsDropped",
         "0"
        ],
        [
         "TotalViolations",
         "0"
        ],
        [
         "ViolationsPerConstraint",
         "{}"
        ]
       ],
       "schema": {
        "fields": [
         {
          "metadata": {},
          "name": "metric_name",
          "nullable": false,
          "type": "string"
         },
         {
          "metadata": {},
          "name": "metric_value",
          "nullable": false,
          "type": "string"
         }
        ],
        "type": "struct"
       }
      },
      "text/plain": [
       "<Spark SQL result set with 7 rows and 2 fields>"
      ]
     },
     "execution_count": 8,
     "metadata": {},
     "output_type": "execute_result"
    }
   ],
   "source": [
    "CREATE MATERIALIZED LAKE VIEW IF NOT EXISTS gold.customer_data\n",
    "AS SELECT\n",
    "    Customer_ID,\n",
    "    Order_ID,\n",
    "    Customer_Name,\n",
    "    Segment,\n",
    "    City,\n",
    "    State,\n",
    "    Country,\n",
    "    Region,\n",
    "    Ship_Mode\n",
    "FROM silver.sales_data_cleaned"
   ]
  },
  {
   "cell_type": "code",
   "execution_count": null,
   "id": "5a7c8691-f5dd-41f4-9aa0-7233030084fa",
   "metadata": {
    "collapsed": false,
    "jupyter": {
     "outputs_hidden": true
    },
    "microsoft": {
     "language": "sparksql",
     "language_group": "synapse_pyspark"
    }
   },
   "outputs": [
    {
     "data": {
      "application/vnd.livy.statement-meta+json": {
       "execution_finish_time": "2025-04-15T08:56:42.7111932Z",
       "execution_start_time": "2025-04-15T08:56:38.9515456Z",
       "livy_statement_state": "available",
       "normalized_state": "finished",
       "parent_msg_id": "3651d87b-bd98-4e4a-b7a5-56f79ce4daa9",
       "queued_time": "2025-04-15T08:55:20.7484213Z",
       "session_id": "39b76f71-bcc0-4406-b7a9-e09f4a8c8fd6",
       "session_start_time": null,
       "spark_pool": null,
       "state": "finished",
       "statement_id": 10,
       "statement_ids": [
        10
       ]
      },
      "text/plain": [
       "StatementMeta(, 39b76f71-bcc0-4406-b7a9-e09f4a8c8fd6, 10, Finished, Available, Finished)"
      ]
     },
     "metadata": {},
     "output_type": "display_data"
    },
    {
     "data": {
      "application/vnd.synapse.sparksql-result+json": {
       "data": [
        [
         "MVName",
         "ContosoFabric.SalesLakehouse.gold.sales_dates"
        ],
        [
         "RefreshPolicy",
         "FullRefresh"
        ],
        [
         "Message",
         "Constraints is empty. Skipping the invariant check."
        ],
        [
         "TotalRowsProcessed",
         "0"
        ],
        [
         "TotalRowsDropped",
         "0"
        ],
        [
         "TotalViolations",
         "0"
        ],
        [
         "ViolationsPerConstraint",
         "{}"
        ]
       ],
       "schema": {
        "fields": [
         {
          "metadata": {},
          "name": "metric_name",
          "nullable": false,
          "type": "string"
         },
         {
          "metadata": {},
          "name": "metric_value",
          "nullable": false,
          "type": "string"
         }
        ],
        "type": "struct"
       }
      },
      "text/plain": [
       "<Spark SQL result set with 7 rows and 2 fields>"
      ]
     },
     "execution_count": 9,
     "metadata": {},
     "output_type": "execute_result"
    }
   ],
   "source": [
    "CREATE MATERIALIZED LAKE VIEW IF NOT EXISTS gold.sales_dates\n",
    "AS SELECT\n",
    "  Order_ID,\n",
    "  Agent_ID\n",
    "FROM silver.sales_data_cleaned"
   ]
  },
  {
   "cell_type": "code",
   "execution_count": null,
   "id": "61f096b6-4d4c-4138-a861-5f93fc5ec770",
   "metadata": {
    "advisor": {
     "adviceMetadata": "{\"artifactId\":\"4fffab31-8729-4030-b7f6-2e6f0e1aeb57\",\"activityId\":\"39b76f71-bcc0-4406-b7a9-e09f4a8c8fd6\",\"applicationId\":\"application_1744707200959_0001\",\"jobGroupId\":\"11\",\"advices\":{\"warn\":1}}"
    },
    "collapsed": false,
    "jupyter": {
     "outputs_hidden": true
    },
    "microsoft": {
     "language": "sparksql",
     "language_group": "synapse_pyspark"
    }
   },
   "outputs": [
    {
     "data": {
      "application/vnd.livy.statement-meta+json": {
       "execution_finish_time": "2025-04-15T08:57:30.5667606Z",
       "execution_start_time": "2025-04-15T08:56:42.7166055Z",
       "livy_statement_state": "available",
       "normalized_state": "finished",
       "parent_msg_id": "61b4fa54-9559-4518-9451-b5b1b8609108",
       "queued_time": "2025-04-15T08:55:21.1227102Z",
       "session_id": "39b76f71-bcc0-4406-b7a9-e09f4a8c8fd6",
       "session_start_time": null,
       "spark_pool": null,
       "state": "finished",
       "statement_id": 11,
       "statement_ids": [
        11
       ]
      },
      "text/plain": [
       "StatementMeta(, 39b76f71-bcc0-4406-b7a9-e09f4a8c8fd6, 11, Finished, Available, Finished)"
      ]
     },
     "metadata": {},
     "output_type": "display_data"
    },
    {
     "data": {
      "application/vnd.synapse.sparksql-result+json": {
       "data": [
        [
         "MVName",
         "ContosoFabric.SalesLakehouse.gold.total_commissions"
        ],
        [
         "RefreshPolicy",
         "FullRefresh"
        ],
        [
         "Message",
         "Constraints is empty. Skipping the invariant check."
        ],
        [
         "TotalRowsProcessed",
         "0"
        ],
        [
         "TotalRowsDropped",
         "0"
        ],
        [
         "TotalViolations",
         "0"
        ],
        [
         "ViolationsPerConstraint",
         "{}"
        ]
       ],
       "schema": {
        "fields": [
         {
          "metadata": {},
          "name": "metric_name",
          "nullable": false,
          "type": "string"
         },
         {
          "metadata": {},
          "name": "metric_value",
          "nullable": false,
          "type": "string"
         }
        ],
        "type": "struct"
       }
      },
      "text/plain": [
       "<Spark SQL result set with 7 rows and 2 fields>"
      ]
     },
     "execution_count": 10,
     "metadata": {},
     "output_type": "execute_result"
    }
   ],
   "source": [
    "CREATE MATERIALIZED LAKE VIEW IF NOT EXISTS gold.total_commissions\n",
    "AS\n",
    "SELECT\n",
    "  Agent_Name,\n",
    "  Agent_ID,\n",
    "  Product_Category,\n",
    "  SUM(Sales) AS Total_Sales,\n",
    "  SUM(Commission) AS Total_Commission\n",
    "FROM (\n",
    "  SELECT \n",
    "    s.Order_ID,\n",
    "    s.Product_Category,\n",
    "    s.Sales,\n",
    "    a.Agent_ID,\n",
    "    a.Agent_Name,\n",
    "    a.City,\n",
    "    a.State,\n",
    "    a.Country,\n",
    "    ac.Commission_Percentage,\n",
    "    (s.Sales * ac.Commission_Percentage / 100) AS Commission\n",
    "  FROM silver.sales_data_cleaned s\n",
    "  JOIN bronze.agent a\n",
    "    ON s.Agent_ID = a.Agent_ID\n",
    "  JOIN bronze.agent_commissions ac\n",
    "    ON s.Agent_ID = ac.Agent_ID\n",
    ") AS AgentCommissions\n",
    "GROUP BY \n",
    "Agent_ID, Agent_Name, Product_Category"
   ]
  },
  {
   "cell_type": "code",
   "execution_count": null,
   "id": "4b3d80ac-d19d-4f04-86b2-741eea0c36a6",
   "metadata": {
    "collapsed": false,
    "jupyter": {
     "outputs_hidden": true
    },
    "microsoft": {
     "language": "sparksql",
     "language_group": "synapse_pyspark"
    }
   },
   "outputs": [
    {
     "data": {
      "application/vnd.livy.statement-meta+json": {
       "execution_finish_time": "2025-04-15T08:57:51.938436Z",
       "execution_start_time": "2025-04-15T08:57:30.5725188Z",
       "livy_statement_state": "available",
       "normalized_state": "finished",
       "parent_msg_id": "5d14cf68-2a13-48a2-a466-1e3a3cc516f3",
       "queued_time": "2025-04-15T08:55:21.3984942Z",
       "session_id": "39b76f71-bcc0-4406-b7a9-e09f4a8c8fd6",
       "session_start_time": null,
       "spark_pool": null,
       "state": "finished",
       "statement_id": 12,
       "statement_ids": [
        12
       ]
      },
      "text/plain": [
       "StatementMeta(, 39b76f71-bcc0-4406-b7a9-e09f4a8c8fd6, 12, Finished, Available, Finished)"
      ]
     },
     "metadata": {},
     "output_type": "display_data"
    },
    {
     "data": {
      "application/vnd.synapse.sparksql-result+json": {
       "data": [
        [
         "MVName",
         "ContosoFabric.SalesLakehouse.gold.fact_sales"
        ],
        [
         "RefreshPolicy",
         "FullRefresh"
        ],
        [
         "Message",
         "Constraints is empty. Skipping the invariant check."
        ],
        [
         "TotalRowsProcessed",
         "0"
        ],
        [
         "TotalRowsDropped",
         "0"
        ],
        [
         "TotalViolations",
         "0"
        ],
        [
         "ViolationsPerConstraint",
         "{}"
        ]
       ],
       "schema": {
        "fields": [
         {
          "metadata": {},
          "name": "metric_name",
          "nullable": false,
          "type": "string"
         },
         {
          "metadata": {},
          "name": "metric_value",
          "nullable": false,
          "type": "string"
         }
        ],
        "type": "struct"
       }
      },
      "text/plain": [
       "<Spark SQL result set with 7 rows and 2 fields>"
      ]
     },
     "execution_count": 11,
     "metadata": {},
     "output_type": "execute_result"
    }
   ],
   "source": [
    "CREATE MATERIALIZED LAKE VIEW IF NOT EXISTS gold.fact_sales\n",
    "AS\n",
    "SELECT \n",
    "    d.Order_ID,\n",
    "    t.Total_Sales AS Price,\n",
    "    p.Product,\n",
    "    o.Order_Priority,\n",
    "    m.Ship_Mode,\n",
    "    s.Customer_ID\n",
    "FROM gold.sales_dates d\n",
    "INNER JOIN gold.customer_data s ON s.Order_ID = d.Order_ID\n",
    "INNER JOIN gold.total_commissions t ON t.Agent_ID = d.Agent_ID\n",
    "INNER JOIN gold.sales_products p ON p.Product_Category=t.Product_Category\n",
    "INNER JOIN gold.sales_shipmode m ON m.Ship_Mode= s.Ship_Mode\n",
    "INNER JOIN gold.OrderPriority o ON o.Order_ID=d.Order_ID;"
   ]
  }
 ],
 "metadata": {
  "dependencies": {
   "lakehouse": {
    "default_lakehouse": "00a3ccca-791c-412b-8f24-e44b80e1a4c2",
    "default_lakehouse_name": "SalesLakehouse",
    "default_lakehouse_workspace_id": "ff5c8307-673f-4828-a4df-16ce455afc29",
    "known_lakehouses": [
     {
      "id": "00a3ccca-791c-412b-8f24-e44b80e1a4c2"
     }
    ]
   }
  },
  "kernel_info": {
   "name": "synapse_pyspark"
  },
  "kernelspec": {
   "display_name": "synapse_pyspark",
   "name": "synapse_pyspark"
  },
  "language_info": {
   "name": "sql"
  },
  "microsoft": {
   "language": "sparksql",
   "language_group": "synapse_pyspark",
   "ms_spell_check": {
    "ms_spell_check_language": "en"
   }
  },
  "nteract": {
   "version": "nteract-front-end@1.0.0"
  },
  "spark_compute": {
   "compute_id": "/trident/default",
   "session_options": {
    "conf": {
     "spark.synapse.nbs.session.timeout": "1200000"
    }
   }
  }
 },
 "nbformat": 4,
 "nbformat_minor": 5
}
